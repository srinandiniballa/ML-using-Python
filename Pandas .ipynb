{
 "cells": [
  {
   "cell_type": "markdown",
   "id": "5f5e3435",
   "metadata": {},
   "source": [
    "### Introduction to Pandas"
   ]
  },
  {
   "cell_type": "code",
   "execution_count": 1,
   "id": "9dd8a1f0",
   "metadata": {},
   "outputs": [],
   "source": [
    "import numpy as np\n",
    "import pandas as pd"
   ]
  },
  {
   "cell_type": "code",
   "execution_count": 2,
   "id": "875b6550",
   "metadata": {},
   "outputs": [
    {
     "data": {
      "text/plain": [
       "apple        9\n",
       "banana       8\n",
       "pear         7\n",
       "pineapple    6\n",
       "dtype: int64"
      ]
     },
     "execution_count": 2,
     "metadata": {},
     "output_type": "execute_result"
    }
   ],
   "source": [
    "list1 = pd.Series([9,8,7,6], index=['apple', 'banana', 'pear', 'pineapple'])\n",
    "list1"
   ]
  },
  {
   "cell_type": "code",
   "execution_count": 3,
   "id": "314f6313",
   "metadata": {},
   "outputs": [
    {
     "data": {
      "text/plain": [
       "7"
      ]
     },
     "execution_count": 3,
     "metadata": {},
     "output_type": "execute_result"
    }
   ],
   "source": [
    "list1['pear']"
   ]
  },
  {
   "cell_type": "code",
   "execution_count": 4,
   "id": "c166a30c",
   "metadata": {},
   "outputs": [
    {
     "data": {
      "text/plain": [
       "apple         1\n",
       "orange        2\n",
       "pear          3\n",
       "grapefruit    4\n",
       "dtype: int64"
      ]
     },
     "execution_count": 4,
     "metadata": {},
     "output_type": "execute_result"
    }
   ],
   "source": [
    "list2 = pd.Series([1,2,3,4], index=['apple', 'orange', 'pear', 'grapefruit'])\n",
    "list2"
   ]
  },
  {
   "cell_type": "code",
   "execution_count": 5,
   "id": "27687487",
   "metadata": {},
   "outputs": [
    {
     "data": {
      "text/plain": [
       "apple         10.0\n",
       "banana         NaN\n",
       "grapefruit     NaN\n",
       "orange         NaN\n",
       "pear          10.0\n",
       "pineapple      NaN\n",
       "dtype: float64"
      ]
     },
     "execution_count": 5,
     "metadata": {},
     "output_type": "execute_result"
    }
   ],
   "source": [
    "list1+list2"
   ]
  },
  {
   "cell_type": "code",
   "execution_count": 6,
   "id": "aebfd98c",
   "metadata": {},
   "outputs": [
    {
     "data": {
      "text/html": [
       "<div>\n",
       "<style scoped>\n",
       "    .dataframe tbody tr th:only-of-type {\n",
       "        vertical-align: middle;\n",
       "    }\n",
       "\n",
       "    .dataframe tbody tr th {\n",
       "        vertical-align: top;\n",
       "    }\n",
       "\n",
       "    .dataframe thead th {\n",
       "        text-align: right;\n",
       "    }\n",
       "</style>\n",
       "<table border=\"1\" class=\"dataframe\">\n",
       "  <thead>\n",
       "    <tr style=\"text-align: right;\">\n",
       "      <th></th>\n",
       "      <th>Marks1</th>\n",
       "      <th>Marks2</th>\n",
       "      <th>Marks3</th>\n",
       "      <th>Marks4</th>\n",
       "      <th>Marks5</th>\n",
       "      <th>Marks6</th>\n",
       "    </tr>\n",
       "  </thead>\n",
       "  <tbody>\n",
       "    <tr>\n",
       "      <th>Sub1</th>\n",
       "      <td>0.233412</td>\n",
       "      <td>0.214292</td>\n",
       "      <td>0.515515</td>\n",
       "      <td>0.838309</td>\n",
       "      <td>0.468567</td>\n",
       "      <td>0.731599</td>\n",
       "    </tr>\n",
       "    <tr>\n",
       "      <th>Sub2</th>\n",
       "      <td>0.225468</td>\n",
       "      <td>0.554375</td>\n",
       "      <td>0.534512</td>\n",
       "      <td>0.884102</td>\n",
       "      <td>0.222650</td>\n",
       "      <td>0.588379</td>\n",
       "    </tr>\n",
       "    <tr>\n",
       "      <th>Sub3</th>\n",
       "      <td>0.129582</td>\n",
       "      <td>0.999615</td>\n",
       "      <td>0.336546</td>\n",
       "      <td>0.339744</td>\n",
       "      <td>0.886759</td>\n",
       "      <td>0.180401</td>\n",
       "    </tr>\n",
       "    <tr>\n",
       "      <th>Sub4</th>\n",
       "      <td>0.145751</td>\n",
       "      <td>0.388537</td>\n",
       "      <td>0.220565</td>\n",
       "      <td>0.386479</td>\n",
       "      <td>0.146205</td>\n",
       "      <td>0.726147</td>\n",
       "    </tr>\n",
       "    <tr>\n",
       "      <th>Sub5</th>\n",
       "      <td>0.541283</td>\n",
       "      <td>0.625345</td>\n",
       "      <td>0.560652</td>\n",
       "      <td>0.000853</td>\n",
       "      <td>0.095839</td>\n",
       "      <td>0.268318</td>\n",
       "    </tr>\n",
       "    <tr>\n",
       "      <th>Sub6</th>\n",
       "      <td>0.000135</td>\n",
       "      <td>0.933274</td>\n",
       "      <td>0.932171</td>\n",
       "      <td>0.099398</td>\n",
       "      <td>0.407647</td>\n",
       "      <td>0.137566</td>\n",
       "    </tr>\n",
       "  </tbody>\n",
       "</table>\n",
       "</div>"
      ],
      "text/plain": [
       "        Marks1    Marks2    Marks3    Marks4    Marks5    Marks6\n",
       "Sub1  0.233412  0.214292  0.515515  0.838309  0.468567  0.731599\n",
       "Sub2  0.225468  0.554375  0.534512  0.884102  0.222650  0.588379\n",
       "Sub3  0.129582  0.999615  0.336546  0.339744  0.886759  0.180401\n",
       "Sub4  0.145751  0.388537  0.220565  0.386479  0.146205  0.726147\n",
       "Sub5  0.541283  0.625345  0.560652  0.000853  0.095839  0.268318\n",
       "Sub6  0.000135  0.933274  0.932171  0.099398  0.407647  0.137566"
      ]
     },
     "execution_count": 6,
     "metadata": {},
     "output_type": "execute_result"
    }
   ],
   "source": [
    "tab1=pd.DataFrame(np.random.rand(6,6), index='Sub1 Sub2 Sub3 Sub4 Sub5 Sub6'.split(), columns='Marks1 Marks2 Marks3 Marks4 Marks5 Marks6'.split())\n",
    "tab1"
   ]
  },
  {
   "cell_type": "code",
   "execution_count": 7,
   "id": "1192ddc6",
   "metadata": {},
   "outputs": [
    {
     "data": {
      "text/plain": [
       "Sub1    0.214292\n",
       "Sub2    0.554375\n",
       "Sub3    0.999615\n",
       "Sub4    0.388537\n",
       "Sub5    0.625345\n",
       "Sub6    0.933274\n",
       "Name: Marks2, dtype: float64"
      ]
     },
     "execution_count": 7,
     "metadata": {},
     "output_type": "execute_result"
    }
   ],
   "source": [
    "tab1['Marks2']"
   ]
  },
  {
   "cell_type": "code",
   "execution_count": 8,
   "id": "4f210dd0",
   "metadata": {},
   "outputs": [
    {
     "data": {
      "text/html": [
       "<div>\n",
       "<style scoped>\n",
       "    .dataframe tbody tr th:only-of-type {\n",
       "        vertical-align: middle;\n",
       "    }\n",
       "\n",
       "    .dataframe tbody tr th {\n",
       "        vertical-align: top;\n",
       "    }\n",
       "\n",
       "    .dataframe thead th {\n",
       "        text-align: right;\n",
       "    }\n",
       "</style>\n",
       "<table border=\"1\" class=\"dataframe\">\n",
       "  <thead>\n",
       "    <tr style=\"text-align: right;\">\n",
       "      <th></th>\n",
       "      <th>Marks1</th>\n",
       "      <th>Marks2</th>\n",
       "      <th>Marks3</th>\n",
       "    </tr>\n",
       "  </thead>\n",
       "  <tbody>\n",
       "    <tr>\n",
       "      <th>Sub1</th>\n",
       "      <td>0.233412</td>\n",
       "      <td>0.214292</td>\n",
       "      <td>0.515515</td>\n",
       "    </tr>\n",
       "    <tr>\n",
       "      <th>Sub2</th>\n",
       "      <td>0.225468</td>\n",
       "      <td>0.554375</td>\n",
       "      <td>0.534512</td>\n",
       "    </tr>\n",
       "    <tr>\n",
       "      <th>Sub3</th>\n",
       "      <td>0.129582</td>\n",
       "      <td>0.999615</td>\n",
       "      <td>0.336546</td>\n",
       "    </tr>\n",
       "    <tr>\n",
       "      <th>Sub4</th>\n",
       "      <td>0.145751</td>\n",
       "      <td>0.388537</td>\n",
       "      <td>0.220565</td>\n",
       "    </tr>\n",
       "    <tr>\n",
       "      <th>Sub5</th>\n",
       "      <td>0.541283</td>\n",
       "      <td>0.625345</td>\n",
       "      <td>0.560652</td>\n",
       "    </tr>\n",
       "    <tr>\n",
       "      <th>Sub6</th>\n",
       "      <td>0.000135</td>\n",
       "      <td>0.933274</td>\n",
       "      <td>0.932171</td>\n",
       "    </tr>\n",
       "  </tbody>\n",
       "</table>\n",
       "</div>"
      ],
      "text/plain": [
       "        Marks1    Marks2    Marks3\n",
       "Sub1  0.233412  0.214292  0.515515\n",
       "Sub2  0.225468  0.554375  0.534512\n",
       "Sub3  0.129582  0.999615  0.336546\n",
       "Sub4  0.145751  0.388537  0.220565\n",
       "Sub5  0.541283  0.625345  0.560652\n",
       "Sub6  0.000135  0.933274  0.932171"
      ]
     },
     "execution_count": 8,
     "metadata": {},
     "output_type": "execute_result"
    }
   ],
   "source": [
    "tab1[['Marks1', 'Marks2', 'Marks3']]"
   ]
  },
  {
   "cell_type": "code",
   "execution_count": 10,
   "id": "24bead71",
   "metadata": {},
   "outputs": [
    {
     "data": {
      "text/html": [
       "<div>\n",
       "<style scoped>\n",
       "    .dataframe tbody tr th:only-of-type {\n",
       "        vertical-align: middle;\n",
       "    }\n",
       "\n",
       "    .dataframe tbody tr th {\n",
       "        vertical-align: top;\n",
       "    }\n",
       "\n",
       "    .dataframe thead th {\n",
       "        text-align: right;\n",
       "    }\n",
       "</style>\n",
       "<table border=\"1\" class=\"dataframe\">\n",
       "  <thead>\n",
       "    <tr style=\"text-align: right;\">\n",
       "      <th></th>\n",
       "      <th>Marks1</th>\n",
       "      <th>Marks2</th>\n",
       "      <th>Marks3</th>\n",
       "      <th>Marks4</th>\n",
       "      <th>Marks5</th>\n",
       "      <th>Marks6</th>\n",
       "      <th>Marks7</th>\n",
       "    </tr>\n",
       "  </thead>\n",
       "  <tbody>\n",
       "    <tr>\n",
       "      <th>Sub1</th>\n",
       "      <td>0.233412</td>\n",
       "      <td>0.214292</td>\n",
       "      <td>0.515515</td>\n",
       "      <td>0.838309</td>\n",
       "      <td>0.468567</td>\n",
       "      <td>0.731599</td>\n",
       "      <td>0.965011</td>\n",
       "    </tr>\n",
       "    <tr>\n",
       "      <th>Sub2</th>\n",
       "      <td>0.225468</td>\n",
       "      <td>0.554375</td>\n",
       "      <td>0.534512</td>\n",
       "      <td>0.884102</td>\n",
       "      <td>0.222650</td>\n",
       "      <td>0.588379</td>\n",
       "      <td>0.813846</td>\n",
       "    </tr>\n",
       "    <tr>\n",
       "      <th>Sub3</th>\n",
       "      <td>0.129582</td>\n",
       "      <td>0.999615</td>\n",
       "      <td>0.336546</td>\n",
       "      <td>0.339744</td>\n",
       "      <td>0.886759</td>\n",
       "      <td>0.180401</td>\n",
       "      <td>0.309984</td>\n",
       "    </tr>\n",
       "    <tr>\n",
       "      <th>Sub4</th>\n",
       "      <td>0.145751</td>\n",
       "      <td>0.388537</td>\n",
       "      <td>0.220565</td>\n",
       "      <td>0.386479</td>\n",
       "      <td>0.146205</td>\n",
       "      <td>0.726147</td>\n",
       "      <td>0.871898</td>\n",
       "    </tr>\n",
       "    <tr>\n",
       "      <th>Sub5</th>\n",
       "      <td>0.541283</td>\n",
       "      <td>0.625345</td>\n",
       "      <td>0.560652</td>\n",
       "      <td>0.000853</td>\n",
       "      <td>0.095839</td>\n",
       "      <td>0.268318</td>\n",
       "      <td>0.809601</td>\n",
       "    </tr>\n",
       "    <tr>\n",
       "      <th>Sub6</th>\n",
       "      <td>0.000135</td>\n",
       "      <td>0.933274</td>\n",
       "      <td>0.932171</td>\n",
       "      <td>0.099398</td>\n",
       "      <td>0.407647</td>\n",
       "      <td>0.137566</td>\n",
       "      <td>0.137701</td>\n",
       "    </tr>\n",
       "  </tbody>\n",
       "</table>\n",
       "</div>"
      ],
      "text/plain": [
       "        Marks1    Marks2    Marks3    Marks4    Marks5    Marks6    Marks7\n",
       "Sub1  0.233412  0.214292  0.515515  0.838309  0.468567  0.731599  0.965011\n",
       "Sub2  0.225468  0.554375  0.534512  0.884102  0.222650  0.588379  0.813846\n",
       "Sub3  0.129582  0.999615  0.336546  0.339744  0.886759  0.180401  0.309984\n",
       "Sub4  0.145751  0.388537  0.220565  0.386479  0.146205  0.726147  0.871898\n",
       "Sub5  0.541283  0.625345  0.560652  0.000853  0.095839  0.268318  0.809601\n",
       "Sub6  0.000135  0.933274  0.932171  0.099398  0.407647  0.137566  0.137701"
      ]
     },
     "execution_count": 10,
     "metadata": {},
     "output_type": "execute_result"
    }
   ],
   "source": [
    "tab1['Marks7'] = tab1['Marks1'] + tab1['Marks6']\n",
    "tab1"
   ]
  },
  {
   "cell_type": "code",
   "execution_count": 11,
   "id": "36dd406e",
   "metadata": {},
   "outputs": [
    {
     "data": {
      "text/html": [
       "<div>\n",
       "<style scoped>\n",
       "    .dataframe tbody tr th:only-of-type {\n",
       "        vertical-align: middle;\n",
       "    }\n",
       "\n",
       "    .dataframe tbody tr th {\n",
       "        vertical-align: top;\n",
       "    }\n",
       "\n",
       "    .dataframe thead th {\n",
       "        text-align: right;\n",
       "    }\n",
       "</style>\n",
       "<table border=\"1\" class=\"dataframe\">\n",
       "  <thead>\n",
       "    <tr style=\"text-align: right;\">\n",
       "      <th></th>\n",
       "      <th>Roll No.</th>\n",
       "      <th>Name</th>\n",
       "      <th>Subject</th>\n",
       "    </tr>\n",
       "  </thead>\n",
       "  <tbody>\n",
       "    <tr>\n",
       "      <th>0</th>\n",
       "      <td>1</td>\n",
       "      <td>Abhi</td>\n",
       "      <td>Maths</td>\n",
       "    </tr>\n",
       "    <tr>\n",
       "      <th>1</th>\n",
       "      <td>2</td>\n",
       "      <td>Ram</td>\n",
       "      <td>English</td>\n",
       "    </tr>\n",
       "    <tr>\n",
       "      <th>2</th>\n",
       "      <td>3</td>\n",
       "      <td>Sita</td>\n",
       "      <td>Science</td>\n",
       "    </tr>\n",
       "    <tr>\n",
       "      <th>3</th>\n",
       "      <td>4</td>\n",
       "      <td>Kumar</td>\n",
       "      <td>Social</td>\n",
       "    </tr>\n",
       "    <tr>\n",
       "      <th>4</th>\n",
       "      <td>5</td>\n",
       "      <td>Preeta</td>\n",
       "      <td>History</td>\n",
       "    </tr>\n",
       "  </tbody>\n",
       "</table>\n",
       "</div>"
      ],
      "text/plain": [
       "   Roll No.    Name  Subject\n",
       "0         1    Abhi    Maths\n",
       "1         2     Ram  English\n",
       "2         3    Sita  Science\n",
       "3         4   Kumar   Social\n",
       "4         5  Preeta  History"
      ]
     },
     "execution_count": 11,
     "metadata": {},
     "output_type": "execute_result"
    }
   ],
   "source": [
    "tab2 = pd.DataFrame({'Roll No.' : [1,2,3,4,5], 'Name' : ['Abhi', 'Ram', 'Sita', 'Kumar', 'Preeta'], 'Subject' : ['Maths', 'English', 'Science', 'Social', 'History']})\n",
    "tab2"
   ]
  },
  {
   "cell_type": "code",
   "execution_count": 12,
   "id": "977aca68",
   "metadata": {},
   "outputs": [
    {
     "data": {
      "text/plain": [
       "0    1\n",
       "1    2\n",
       "2    3\n",
       "3    4\n",
       "4    5\n",
       "Name: Roll No., dtype: int64"
      ]
     },
     "execution_count": 12,
     "metadata": {},
     "output_type": "execute_result"
    }
   ],
   "source": [
    "tab2['Roll No.']"
   ]
  },
  {
   "cell_type": "code",
   "execution_count": 14,
   "id": "f4f38de6",
   "metadata": {},
   "outputs": [
    {
     "data": {
      "text/html": [
       "<div>\n",
       "<style scoped>\n",
       "    .dataframe tbody tr th:only-of-type {\n",
       "        vertical-align: middle;\n",
       "    }\n",
       "\n",
       "    .dataframe tbody tr th {\n",
       "        vertical-align: top;\n",
       "    }\n",
       "\n",
       "    .dataframe thead th {\n",
       "        text-align: right;\n",
       "    }\n",
       "</style>\n",
       "<table border=\"1\" class=\"dataframe\">\n",
       "  <thead>\n",
       "    <tr style=\"text-align: right;\">\n",
       "      <th></th>\n",
       "      <th>Name</th>\n",
       "      <th>Subject</th>\n",
       "    </tr>\n",
       "  </thead>\n",
       "  <tbody>\n",
       "    <tr>\n",
       "      <th>0</th>\n",
       "      <td>Abhi</td>\n",
       "      <td>Maths</td>\n",
       "    </tr>\n",
       "    <tr>\n",
       "      <th>1</th>\n",
       "      <td>Ram</td>\n",
       "      <td>English</td>\n",
       "    </tr>\n",
       "    <tr>\n",
       "      <th>2</th>\n",
       "      <td>Sita</td>\n",
       "      <td>Science</td>\n",
       "    </tr>\n",
       "    <tr>\n",
       "      <th>3</th>\n",
       "      <td>Kumar</td>\n",
       "      <td>Social</td>\n",
       "    </tr>\n",
       "    <tr>\n",
       "      <th>4</th>\n",
       "      <td>Preeta</td>\n",
       "      <td>History</td>\n",
       "    </tr>\n",
       "  </tbody>\n",
       "</table>\n",
       "</div>"
      ],
      "text/plain": [
       "     Name  Subject\n",
       "0    Abhi    Maths\n",
       "1     Ram  English\n",
       "2    Sita  Science\n",
       "3   Kumar   Social\n",
       "4  Preeta  History"
      ]
     },
     "execution_count": 14,
     "metadata": {},
     "output_type": "execute_result"
    }
   ],
   "source": [
    "tab2[['Name', 'Subject']]"
   ]
  },
  {
   "cell_type": "code",
   "execution_count": 15,
   "id": "60dfd98f",
   "metadata": {},
   "outputs": [
    {
     "data": {
      "text/html": [
       "<div>\n",
       "<style scoped>\n",
       "    .dataframe tbody tr th:only-of-type {\n",
       "        vertical-align: middle;\n",
       "    }\n",
       "\n",
       "    .dataframe tbody tr th {\n",
       "        vertical-align: top;\n",
       "    }\n",
       "\n",
       "    .dataframe thead th {\n",
       "        text-align: right;\n",
       "    }\n",
       "</style>\n",
       "<table border=\"1\" class=\"dataframe\">\n",
       "  <thead>\n",
       "    <tr style=\"text-align: right;\">\n",
       "      <th></th>\n",
       "      <th>Name</th>\n",
       "      <th>Subject</th>\n",
       "    </tr>\n",
       "  </thead>\n",
       "  <tbody>\n",
       "    <tr>\n",
       "      <th>0</th>\n",
       "      <td>Abhi</td>\n",
       "      <td>Maths</td>\n",
       "    </tr>\n",
       "    <tr>\n",
       "      <th>1</th>\n",
       "      <td>Ram</td>\n",
       "      <td>English</td>\n",
       "    </tr>\n",
       "    <tr>\n",
       "      <th>2</th>\n",
       "      <td>Sita</td>\n",
       "      <td>Science</td>\n",
       "    </tr>\n",
       "    <tr>\n",
       "      <th>3</th>\n",
       "      <td>Kumar</td>\n",
       "      <td>Social</td>\n",
       "    </tr>\n",
       "    <tr>\n",
       "      <th>4</th>\n",
       "      <td>Preeta</td>\n",
       "      <td>History</td>\n",
       "    </tr>\n",
       "  </tbody>\n",
       "</table>\n",
       "</div>"
      ],
      "text/plain": [
       "     Name  Subject\n",
       "0    Abhi    Maths\n",
       "1     Ram  English\n",
       "2    Sita  Science\n",
       "3   Kumar   Social\n",
       "4  Preeta  History"
      ]
     },
     "execution_count": 15,
     "metadata": {},
     "output_type": "execute_result"
    }
   ],
   "source": [
    "tab2=tab2.drop('Roll No.', axis=1)\n",
    "tab2"
   ]
  },
  {
   "cell_type": "code",
   "execution_count": 16,
   "id": "d9d771d5",
   "metadata": {},
   "outputs": [
    {
     "data": {
      "text/html": [
       "<div>\n",
       "<style scoped>\n",
       "    .dataframe tbody tr th:only-of-type {\n",
       "        vertical-align: middle;\n",
       "    }\n",
       "\n",
       "    .dataframe tbody tr th {\n",
       "        vertical-align: top;\n",
       "    }\n",
       "\n",
       "    .dataframe thead th {\n",
       "        text-align: right;\n",
       "    }\n",
       "</style>\n",
       "<table border=\"1\" class=\"dataframe\">\n",
       "  <thead>\n",
       "    <tr style=\"text-align: right;\">\n",
       "      <th></th>\n",
       "      <th>Name</th>\n",
       "      <th>Subject</th>\n",
       "    </tr>\n",
       "  </thead>\n",
       "  <tbody>\n",
       "    <tr>\n",
       "      <th>1</th>\n",
       "      <td>Ram</td>\n",
       "      <td>English</td>\n",
       "    </tr>\n",
       "    <tr>\n",
       "      <th>2</th>\n",
       "      <td>Sita</td>\n",
       "      <td>Science</td>\n",
       "    </tr>\n",
       "    <tr>\n",
       "      <th>3</th>\n",
       "      <td>Kumar</td>\n",
       "      <td>Social</td>\n",
       "    </tr>\n",
       "    <tr>\n",
       "      <th>4</th>\n",
       "      <td>Preeta</td>\n",
       "      <td>History</td>\n",
       "    </tr>\n",
       "  </tbody>\n",
       "</table>\n",
       "</div>"
      ],
      "text/plain": [
       "     Name  Subject\n",
       "1     Ram  English\n",
       "2    Sita  Science\n",
       "3   Kumar   Social\n",
       "4  Preeta  History"
      ]
     },
     "execution_count": 16,
     "metadata": {},
     "output_type": "execute_result"
    }
   ],
   "source": [
    "tab2.drop(0)"
   ]
  }
 ],
 "metadata": {
  "kernelspec": {
   "display_name": "Python 3 (ipykernel)",
   "language": "python",
   "name": "python3"
  },
  "language_info": {
   "codemirror_mode": {
    "name": "ipython",
    "version": 3
   },
   "file_extension": ".py",
   "mimetype": "text/x-python",
   "name": "python",
   "nbconvert_exporter": "python",
   "pygments_lexer": "ipython3",
   "version": "3.11.4"
  }
 },
 "nbformat": 4,
 "nbformat_minor": 5
}
