{
 "cells": [
  {
   "cell_type": "markdown",
   "id": "48238120",
   "metadata": {},
   "source": [
    "### Basics of Python"
   ]
  },
  {
   "cell_type": "code",
   "execution_count": 1,
   "id": "4eca89e6",
   "metadata": {},
   "outputs": [
    {
     "name": "stdout",
     "output_type": "stream",
     "text": [
      "Hello World!\n",
      "Hello World!\n",
      "Nandini\n"
     ]
    }
   ],
   "source": [
    "print(\"Hello World!\")\n",
    "print('Hello World!')\n",
    "print(\"Nandini\")"
   ]
  },
  {
   "cell_type": "code",
   "execution_count": 2,
   "id": "53afcf89",
   "metadata": {},
   "outputs": [
    {
     "name": "stdout",
     "output_type": "stream",
     "text": [
      "6\n",
      "6.6\n",
      "(6+6j)\n"
     ]
    }
   ],
   "source": [
    "print(6)\n",
    "print(6.6)\n",
    "print(6+6j)"
   ]
  },
  {
   "cell_type": "code",
   "execution_count": 3,
   "id": "d85c6b3c",
   "metadata": {},
   "outputs": [
    {
     "name": "stdout",
     "output_type": "stream",
     "text": [
      "Nandini\n",
      "Nandini\n",
      "Nandini\n",
      "Nandini\n"
     ]
    }
   ],
   "source": [
    "myname='Nandini'\n",
    "my_name='Nandini'\n",
    "_myname='Nandini'\n",
    "myname1='Nandini'\n",
    "print(myname)\n",
    "print(my_name)\n",
    "print(_myname)\n",
    "print(myname1)"
   ]
  },
  {
   "cell_type": "code",
   "execution_count": 4,
   "id": "538c402b",
   "metadata": {},
   "outputs": [
    {
     "name": "stdout",
     "output_type": "stream",
     "text": [
      "<class 'int'>\n",
      "<class 'float'>\n",
      "<class 'complex'>\n",
      "<class 'bool'>\n",
      "<class 'str'>\n"
     ]
    }
   ],
   "source": [
    "a=6\n",
    "b=6.6\n",
    "c=7+6j\n",
    "d=True\n",
    "e='true'\n",
    "print(type(a))\n",
    "print(type(b))\n",
    "print(type(c))\n",
    "print(type(d))\n",
    "print(type(e))"
   ]
  },
  {
   "cell_type": "code",
   "execution_count": 5,
   "id": "e49527fc",
   "metadata": {},
   "outputs": [
    {
     "name": "stdout",
     "output_type": "stream",
     "text": [
      "6 6.6\n",
      "6 true\n"
     ]
    }
   ],
   "source": [
    "print(a,b)\n",
    "print(a,e)"
   ]
  },
  {
   "cell_type": "code",
   "execution_count": 6,
   "id": "f708b1b3",
   "metadata": {},
   "outputs": [
    {
     "data": {
      "text/plain": [
       "(6, 6.6)"
      ]
     },
     "execution_count": 6,
     "metadata": {},
     "output_type": "execute_result"
    }
   ],
   "source": [
    "a,b"
   ]
  },
  {
   "cell_type": "code",
   "execution_count": 7,
   "id": "234df63a",
   "metadata": {},
   "outputs": [
    {
     "data": {
      "text/plain": [
       "((7+6j), True)"
      ]
     },
     "execution_count": 7,
     "metadata": {},
     "output_type": "execute_result"
    }
   ],
   "source": [
    "c,d"
   ]
  },
  {
   "cell_type": "code",
   "execution_count": null,
   "id": "e9df3f30",
   "metadata": {},
   "outputs": [],
   "source": []
  }
 ],
 "metadata": {
  "kernelspec": {
   "display_name": "Python 3 (ipykernel)",
   "language": "python",
   "name": "python3"
  },
  "language_info": {
   "codemirror_mode": {
    "name": "ipython",
    "version": 3
   },
   "file_extension": ".py",
   "mimetype": "text/x-python",
   "name": "python",
   "nbconvert_exporter": "python",
   "pygments_lexer": "ipython3",
   "version": "3.11.4"
  }
 },
 "nbformat": 4,
 "nbformat_minor": 5
}
